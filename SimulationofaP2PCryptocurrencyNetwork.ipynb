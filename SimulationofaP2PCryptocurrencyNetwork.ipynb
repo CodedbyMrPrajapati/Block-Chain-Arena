{
 "cells": [
  {
   "cell_type": "code",
   "execution_count": 61,
   "id": "34256ac2",
   "metadata": {},
   "outputs": [],
   "source": [
    "import matplotlib.pyplot as plt\n",
    "import networkx as nx\n",
    "import random\n",
    "import queue\n",
    "import time\n",
    "import uuid\n",
    "import heapq"
   ]
  },
  {
   "cell_type": "code",
   "execution_count": null,
   "id": "66a34174",
   "metadata": {},
   "outputs": [
    {
     "ename": "",
     "evalue": "",
     "output_type": "error",
     "traceback": [
      "\u001b[1;31mnotebook controller is DISPOSED. \n",
      "\u001b[1;31mView Jupyter <a href='command:jupyter.viewOutput'>log</a> for further details."
     ]
    }
   ],
   "source": [
    "from collections import defaultdict\n",
    "class Event:\n",
    "    def __init__(self, timestamp, event_type, peer_id, data=None):\n",
    "        self.timestamp = timestamp\n",
    "        self.type= event_type\n",
    "        self.peer_id = peer_id\n",
    "        self.data = data\n",
    "    def __lt__(self, other):\n",
    "        return self.timestamp < other.timestamp\n",
    "    def __repr__(self):\n",
    "        return f\"{str(self.timestamp)[:8]}: {self.type} by {self.peer_id}:\"\n",
    "class Block:\n",
    "    def __init__(self, id, parent, miner, transactions, time):\n",
    "        self.id = id\n",
    "        self.miner = miner\n",
    "        self.transactions= transactions\n",
    "        self.time = time\n",
    "        self.size = 1 + len(transactions)\n",
    "        self.validity = True\n",
    "        self.parent = parent.id if parent else None\n",
    "        self.txn_processed = parent.txn_processed if parent else set()\n",
    "        # Hey so in actual you are supposed to reverify entire chains but that would be inefficient so we are storing in each block to verify \n",
    "        self.coin_data = parent.coin_data if parent else defaultdict()\n",
    "        if self.miner:self.coin_data[self.miner]+=50 # Miners profit\n",
    "        for txn in self.transactions:\n",
    "            self.coin_data[txn.payer]-=txn.coins\n",
    "            self.coin_data[txn.receiver]+=txn.coins\n",
    "            self.txn_processed.add(txn)\n",
    "        for txn in self.transactions:\n",
    "            if self.coin_data[txn.payer]<0:self.validity = False\n",
    "    def __repr__(self):\n",
    "        return f\"{str(self.id)[:8]}: Block created by Miner {self.miner} at {self.time} with {len(self.transactions)} txn's and is {\"valid\" if self.validity else \"invalid\"}\"\n",
    "class BlockchainTree:\n",
    "    def __init__(self):\n",
    "        self.blocks = {} \n",
    "        self.children = defaultdict(list)\n",
    "        self.height = {}\n",
    "        self.longest = None\n",
    "\n",
    "    def add_block(self, block):\n",
    "        self.blocks[block.id] = block\n",
    "        if block.parent:\n",
    "            self.children[block.parent].append(block.id)\n",
    "            self.height[block.id] = self.height[block.parent] + 1\n",
    "        else:\n",
    "            self.height[block.id] = 1 \n",
    "\n",
    "        if not self.longest or self.height[block.id] > self.height[self.longest.id]:\n",
    "            self.longest = block\n",
    "    def get_longest_chain(self):\n",
    "        chain = []\n",
    "        current = self.longest\n",
    "        while current:\n",
    "            chain.append(current)\n",
    "            current = self.blocks[current.id].parent\n",
    "        return chain[::-1]  \n"
   ]
  },
  {
   "cell_type": "code",
   "execution_count": null,
   "id": "f16ac239",
   "metadata": {},
   "outputs": [
    {
     "ename": "",
     "evalue": "",
     "output_type": "error",
     "traceback": [
      "\u001b[1;31mnotebook controller is DISPOSED. \n",
      "\u001b[1;31mView Jupyter <a href='command:jupyter.viewOutput'>log</a> for further details."
     ]
    }
   ],
   "source": [
    "class Transaction :\n",
    "    def __init__(self,id,payer,receiver,coins):\n",
    "        self.status = \"Valid\" if payer.coins >= coins else \"Invalid\"\n",
    "        self.payer = payer\n",
    "        self.receiver = receiver \n",
    "        self.coins = coins\n",
    "        self.size = 1\n",
    "        self.id  = id\n",
    "    def __repr__(self):\n",
    "        return f\"{str(self.id)[:8]}: {self.payer.id} pays {self.receiver.id} {self.coins} coins.\"\n",
    "    def validate(self):\n",
    "        self.status = \"Valid\" if self.payer.coins >= self.coins else \"Invalid\"\n",
    "        return self.status\n",
    "    def update(self):\n",
    "        if self.status == \"Valid\" :\n",
    "            self.payer.coins -= self.coins\n",
    "            self.receiver.coins += self.coins\n",
    "            print(f\"{self} \\n Transaction {str(self.id)[:8]} occurred successfully\")\n",
    "            self.status = \"Invalid\"\n",
    "        else :\n",
    "            print(f\"Transaction ID {str(self.id)[:8]} cannot be further processed.\")\n",
    "    def __lt__(self,other):\n",
    "        return self.coins < other.coins"
   ]
  },
  {
   "cell_type": "code",
   "execution_count": null,
   "id": "6d8ec5b7",
   "metadata": {},
   "outputs": [
    {
     "ename": "",
     "evalue": "",
     "output_type": "error",
     "traceback": [
      "\u001b[1;31mnotebook controller is DISPOSED. \n",
      "\u001b[1;31mView Jupyter <a href='command:jupyter.viewOutput'>log</a> for further details."
     ]
    }
   ],
   "source": [
    "class Peer :\n",
    "    def __init__(self,id,speed,inverse_cpu):\n",
    "        self.id = id\n",
    "        self.speed = speed\n",
    "        self.inverse_cpu = inverse_cpu\n",
    "        self.coins = 10\n",
    "        self.transaction_mem = set()\n",
    "        self.block_chain_tree :BlockchainTree= BlockchainTree()\n",
    "    def __repr__(self):\n",
    "        return f\"{self.id} with {self.speed} speed and {self.inverse_cpu} quality cpu has {self.coins} coins\"\n"
   ]
  },
  {
   "cell_type": "code",
   "execution_count": null,
   "id": "ff3c0810",
   "metadata": {},
   "outputs": [
    {
     "ename": "",
     "evalue": "",
     "output_type": "error",
     "traceback": [
      "\u001b[1;31mnotebook controller is DISPOSED. \n",
      "\u001b[1;31mView Jupyter <a href='command:jupyter.viewOutput'>log</a> for further details."
     ]
    }
   ],
   "source": [
    "class Network:\n",
    "    def __init__(self, size, bad_speed_fraction , bad_cpu_fraction):\n",
    "        self.size = size\n",
    "        self.Graph = nx.Graph() \n",
    "        # bad_speed_fraction + 10*(1-bad_speed_fraction) = 1/h\n",
    "        # h = 1/(10-9*bad_speed_fraction)*nf\n",
    "        inverse_hash_power = (10-9*bad_cpu_fraction)*size\n",
    "        speed_distribution = [\"Low\"] * int(bad_speed_fraction * size) + [\"High\"] * (size-int((bad_speed_fraction) * size))\n",
    "        inverse_cpu_distribution = [inverse_hash_power] * int(bad_cpu_fraction * size) + [inverse_hash_power/10] * (size - int((bad_cpu_fraction) * size) )\n",
    "        random.shuffle(speed_distribution)\n",
    "        random.shuffle(inverse_cpu_distribution)\n",
    "        for i in range(size):\n",
    "            peer = Peer(i,speed_distribution[i],inverse_cpu_distribution[i])\n",
    "            self.Graph.add_node(i, peer=peer)\n",
    "        while not (self.check_connectivity() and nx.is_connected(self.Graph)):\n",
    "            print(\"Generated a not connected graph retrying...\")\n",
    "            if (self.check_connectivity() != nx.is_connected(self.Graph)):\n",
    "                print(\"Sorry the connectivity function never showed an error while testing but is currently misbehaving\")\n",
    "            self.Graph.clear_edges()\n",
    "            self.generate_edges(3,6)\n",
    "    def check_connectivity(self):\n",
    "        visited = [False for _ in range(self.size)]\n",
    "        q = queue.Queue()\n",
    "        q.put(0)\n",
    "        while not q.empty() :\n",
    "            top = q.get()\n",
    "            for node in self.Graph[top]:\n",
    "                if not visited[node]:\n",
    "                    q.put(node)\n",
    "                    visited[node]=True\n",
    "        return all(visited)\n",
    "    def generate_edges(self,lower_limit,upper_limit,timeout = 2.0):\n",
    "        Graph = self.Graph\n",
    "        start_time = time.time()\n",
    "        for node in list(Graph.nodes):\n",
    "            if Graph.degree[node] > upper_limit:\n",
    "                Graph.clear_edges()\n",
    "                self.generate_edges(lower_limit,upper_limit)            \n",
    "            new_no_edges = random.randint(max(lower_limit-Graph.degree[node],0),upper_limit-Graph.degree[node])\n",
    "            for _ in range(new_no_edges):\n",
    "                while True:\n",
    "                    if time.time() - start_time > timeout:\n",
    "                        print(f\"Timeout while generating edges for node {node}\")\n",
    "                        Graph.clear_edges()\n",
    "                        self.generate_edges(lower_limit,upper_limit)\n",
    "                        return \n",
    "                    adj_node = random.randint(0,self.size-1)\n",
    "                    if adj_node != node and Graph.degree[adj_node] < upper_limit:\n",
    "                        Graph.add_edge(node,adj_node)\n",
    "                        break\n",
    "    def get_peer_info(self, node_id)->Peer:\n",
    "        return self.Graph.nodes[node_id]['peer']\n",
    "    def visualize_network(self):\n",
    "        node_colors = \"skyblue\"\n",
    "        node_sizes = [20 + 50 * self.Graph.degree(n) for n in self.Graph.nodes()]\n",
    "        pos = nx.kamada_kawai_layout(self.Graph)\n",
    "        plt.figure(figsize=(12, 9))\n",
    "        nx.draw_networkx_nodes(self.Graph, pos,node_color=node_colors,node_size=node_sizes,alpha=1,edgecolors='black', linewidths=1)\n",
    "        nx.draw_networkx_edges(self.Graph, pos,edge_color='gray',alpha=1,width=1.2)\n",
    "        nx.draw_networkx_labels(self.Graph, pos,font_size=8,font_color='black')\n",
    "        plt.title(\"Peer to Peer network\",fontsize=16)\n",
    "        plt.axis('off')\n",
    "        plt.show()"
   ]
  },
  {
   "cell_type": "code",
   "execution_count": null,
   "id": "ef7460bf",
   "metadata": {},
   "outputs": [
    {
     "ename": "",
     "evalue": "",
     "output_type": "error",
     "traceback": [
      "\u001b[1;31mnotebook controller is DISPOSED. \n",
      "\u001b[1;31mView Jupyter <a href='command:jupyter.viewOutput'>log</a> for further details."
     ]
    }
   ],
   "source": [
    "rho_ij = random.uniform(0.01,0.5)\n",
    "print(rho_ij)"
   ]
  },
  {
   "cell_type": "code",
   "execution_count": null,
   "id": "e5a79cab",
   "metadata": {},
   "outputs": [
    {
     "ename": "",
     "evalue": "",
     "output_type": "error",
     "traceback": [
      "\u001b[1;31mnotebook controller is DISPOSED. \n",
      "\u001b[1;31mView Jupyter <a href='command:jupyter.viewOutput'>log</a> for further details."
     ]
    }
   ],
   "source": [
    "def calculate_latency(Peer_1:Peer,Peer_2:Peer,msg:Transaction):\n",
    "    c_ij = 100 * 1024  if Peer_1.speed == \"High\" and Peer_2.speed == \"Low\" else 5 * 1024 \n",
    "    d_ij = random.expovariate(c_ij/96)\n",
    "    return rho_ij + msg.size/c_ij + d_ij"
   ]
  },
  {
   "cell_type": "code",
   "execution_count": null,
   "id": "e7122440",
   "metadata": {},
   "outputs": [
    {
     "ename": "",
     "evalue": "",
     "output_type": "error",
     "traceback": [
      "\u001b[1;31mnotebook controller is DISPOSED. \n",
      "\u001b[1;31mView Jupyter <a href='command:jupyter.viewOutput'>log</a> for further details."
     ]
    }
   ],
   "source": [
    "def propagate_msg(msg, root: Peer, Network: Network):\n",
    "    root_id = root.id\n",
    "    Graph = Network.Graph\n",
    "    received_time = [float('inf') for _ in range(Network.size)]\n",
    "    received_time[root_id] = 0\n",
    "    pq = [(0, root_id)]\n",
    "    heapq.heapify(pq)\n",
    "    while pq:\n",
    "        current_time, current_peer_id = heapq.heappop(pq)\n",
    "        for neighbor in Graph.neighbors(current_peer_id):\n",
    "            latency = calculate_latency(Network.get_peer_info(current_peer_id), Network.get_peer_info(neighbor), msg)\n",
    "            new_time = current_time + latency  \n",
    "            if new_time < received_time[neighbor]:\n",
    "                received_time[neighbor] = new_time\n",
    "                heapq.heappush(pq, (new_time, neighbor))\n",
    "    return received_time"
   ]
  },
  {
   "cell_type": "code",
   "execution_count": null,
   "id": "54423cb9",
   "metadata": {},
   "outputs": [
    {
     "ename": "",
     "evalue": "",
     "output_type": "error",
     "traceback": [
      "\u001b[1;31mnotebook controller is DISPOSED. \n",
      "\u001b[1;31mView Jupyter <a href='command:jupyter.viewOutput'>log</a> for further details."
     ]
    }
   ],
   "source": [
    "Ttx,I,block_size = 10,600,1023\n",
    "class Simulator():\n",
    "    def __init__(self,size):\n",
    "        self.time = 0\n",
    "        self.events = []\n",
    "        self.size = size\n",
    "        self.Network = Network(size,0.1,0.2)\n",
    "        Genesis = Block(uuid.uuid4(),None,None,[],0)\n",
    "        for i in range(self.Network.size):\n",
    "            heapq.heappush(self.events,Event(0,\"Rec_block\",i,Genesis))\n",
    "    def handle_events(self,event:Event) :\n",
    "        if event.type == \"Gen_txn\":\n",
    "            receiver = random.randint(0, self.size - 1)\n",
    "            while receiver == event.peer_id:\n",
    "                receiver = random.randint(0, self.size - 1)\n",
    "            heapq.heappush(self.events,Event(self.time+random.expovariate(1/Ttx),\"Gen_txn\",event.peer_id,Transaction(uuid.uuid4(),event.peer_id,receiver,random.randint(0,100))))\n",
    "            received_time_delay = propagate_msg(event.data,event.peer_id,self.Network)\n",
    "            for i in range(Network.size):\n",
    "                person : Peer = self.Network.get_peer_info(i)\n",
    "                # heapq.heappush(person.transaction_mem,(received_time_delay[i]+event.timestamp,event.data))\n",
    "                heapq.heappush(self.events,Event(received_time_delay[i]+event.timestamp,\"Rec_txn\",i,event.data))\n",
    "        elif event.type == \"Rec_txn\":\n",
    "            self.Network.get_peer_info(event.peer_id).transaction_mem.add(event.data)\n",
    "        elif event.type == \"Rec_block\":\n",
    "            if event.data.validity:\n",
    "                Person : Peer = self.Network.get_peer_info(event.peer_id)\n",
    "                prev_longest = Person.block_chain_tree.longest\n",
    "                Person.block_chain_tree.add_block(event.data)\n",
    "                new_longest = Person.block_chain_tree.longest\n",
    "                if prev_longest!=new_longest:\n",
    "                    txns = []\n",
    "                    for txn in Person.transaction_mem:\n",
    "                        if txn not in new_longest.txn_processed:\n",
    "                            txns.append(txn)\n",
    "                        if len(txns) >= block_size:\n",
    "                            break\n",
    "                    new_block = Block(uuid.uuid4(),new_longest,Person.id,txns,event.timestamp + random.expovariate(1/(Person.inverse_cpu*I)))\n",
    "                    heapq.heappush(self.events,Event(event.timestamp + random.expovariate(1/(Person.inverse_cpu*I)),\"Gen_block\",event.peer_id,new_block))\n",
    "        elif event.type == \"Gen_block\":\n",
    "            Person : Peer = self.Network.get_peer_info(event.peer_id)\n",
    "            gen_block:Block = event.data\n",
    "            if gen_block.parent == Person.block_chain_tree.longest:\n",
    "                delay = propagate_msg(gen_block,Person,self.Network)\n",
    "                for i in range(len(gen_block)):\n",
    "                    heapq.heappush(self.events,Event(event.timestamp + delay[i],\"Rec_block\",i,gen_block))\n",
    "    def simulate(self,time):\n",
    "        while self.time < time:\n",
    "            if not self.events: break\n",
    "            event:Event = heapq.heappop(self.events)\n",
    "            self.handle_events(event)\n",
    "            self.time  = event.timestamp\n",
    "        while self.events:\n",
    "            e = heapq.heappop(self.events)\n",
    "            print(e)\n"
   ]
  },
  {
   "cell_type": "code",
   "execution_count": null,
   "id": "0f837195",
   "metadata": {},
   "outputs": [
    {
     "ename": "",
     "evalue": "",
     "output_type": "error",
     "traceback": [
      "\u001b[1;31mnotebook controller is DISPOSED. \n",
      "\u001b[1;31mView Jupyter <a href='command:jupyter.viewOutput'>log</a> for further details."
     ]
    }
   ],
   "source": [
    "sim = Simulator(2)\n",
    "sim.simulate(100)\n",
    "for i in range(sim.size):\n",
    "    Person = sim.Network.get_peer_info(i)\n",
    "    print(Person)\n",
    "    print(Person.block_chain_tree.get_longest_chain())\n",
    "    print(Person.transaction_mem)"
   ]
  }
 ],
 "metadata": {
  "kernelspec": {
   "display_name": "base",
   "language": "python",
   "name": "python3"
  },
  "language_info": {
   "codemirror_mode": {
    "name": "ipython",
    "version": 3
   },
   "file_extension": ".py",
   "mimetype": "text/x-python",
   "name": "python",
   "nbconvert_exporter": "python",
   "pygments_lexer": "ipython3",
   "version": "3.12.7"
  }
 },
 "nbformat": 4,
 "nbformat_minor": 5
}
